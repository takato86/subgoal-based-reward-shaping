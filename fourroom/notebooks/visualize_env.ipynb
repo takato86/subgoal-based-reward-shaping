{
 "cells": [
  {
   "cell_type": "code",
   "execution_count": 1,
   "metadata": {},
   "outputs": [],
   "source": [
    "import numpy as np\n",
    "import gym\n",
    "import gym_fourrooms\n",
    "import pandas as pd\n",
    "from PIL import Image"
   ]
  },
  {
   "cell_type": "code",
   "execution_count": 2,
   "metadata": {},
   "outputs": [],
   "source": [
    "env = gym.make(\"SubGoalFourrooms-v0\")"
   ]
  },
  {
   "cell_type": "code",
   "execution_count": 2,
   "metadata": {},
   "outputs": [],
   "source": [
    "def load_subgoals(file_path, task_id=None):\n",
    "    subgoal_df = pd.read_csv(file_path)\n",
    "    if task_id is not None:\n",
    "        subgoal_df = subgoal_df[subgoal_df[\"task_id\"] == task_id]\n",
    "    subg_serieses_df = subgoal_df.groupby([\"user_id\", \"task_id\"]).agg(list)\n",
    "    subg_serieses = []\n",
    "    for subg_series in list(subg_serieses_df['state'].values):\n",
    "        subg_serieses.append([subg_series])\n",
    "    return subg_serieses"
   ]
  },
  {
   "cell_type": "code",
   "execution_count": 4,
   "metadata": {},
   "outputs": [],
   "source": [
    "def output_env_render(env, subgoal_sets):\n",
    "    pil_images = []\n",
    "\n",
    "    for l_subgoal in subgoal_sets:\n",
    "        subgoal_dict = {}\n",
    "        for i, subgoal in enumerate(l_subgoal[0]):\n",
    "            subgoal_dict[subgoal] = i\n",
    "        \n",
    "        env.reset(subgoals=subgoal_dict)\n",
    "        img = env.render(mode='rgb_array')\n",
    "        pil_images.append(Image.fromarray(img))\n",
    "    \n",
    "    return pil_images"
   ]
  },
  {
   "cell_type": "markdown",
   "metadata": {},
   "source": [
    "# 参加者サブゴールの可視化"
   ]
  },
  {
   "cell_type": "code",
   "execution_count": 4,
   "metadata": {},
   "outputs": [
    {
     "data": {
      "text/plain": [
       "[[[38, 101]],\n",
       " [[51, 88]],\n",
       " [[27, 80]],\n",
       " [[28, 101]],\n",
       " [[42, 87]],\n",
       " [[51, 88]],\n",
       " [[25, 62]],\n",
       " [[51, 88]],\n",
       " [[51, 88]],\n",
       " [[25, 62]]]"
      ]
     },
     "execution_count": 4,
     "metadata": {},
     "output_type": "execute_result"
    }
   ],
   "source": [
    "fpath = \"../in/subgoals/fourrooms_human_subgoals.csv\"\n",
    "subgoal_sets = load_subgoals(fpath)\n",
    "subgoal_sets"
   ]
  },
  {
   "cell_type": "code",
   "execution_count": null,
   "metadata": {},
   "outputs": [],
   "source": [
    "pil_images = output_env_render(env, subgoal_sets)"
   ]
  },
  {
   "cell_type": "code",
   "execution_count": 6,
   "metadata": {},
   "outputs": [],
   "source": [
    "# 画像の保存\n",
    "for i, pil_image in enumerate(pil_images):\n",
    "    pil_image.save(f\"../img/P{i}.pdf\", format=\"pdf\", quality=100)"
   ]
  },
  {
   "cell_type": "markdown",
   "metadata": {},
   "source": [
    "# Number of Subgoals"
   ]
  },
  {
   "cell_type": "code",
   "execution_count": 7,
   "metadata": {},
   "outputs": [],
   "source": [
    "import glob\n",
    "import os\n",
    "n_subg_dir = \"../in/subgoals/fourrooms/\"\n",
    "\n",
    "subg_files = glob.glob(os.path.join(n_subg_dir, \"*\"))\n",
    "pil_images = []\n",
    "names = []\n",
    "\n",
    "for subg_file in subg_files:\n",
    "    sub_series = load_subgoals(subg_file)\n",
    "    pil_images += output_env_render(env, sub_series)\n",
    "    fname = os.path.basename(subg_file)\n",
    "    names.append(os.path.splitext(fname)[0])"
   ]
  },
  {
   "cell_type": "code",
   "execution_count": 8,
   "metadata": {},
   "outputs": [],
   "source": [
    "output_dir = \"../img/n_subgs\"\n",
    "assert len(pil_images) == len(names)\n",
    "\n",
    "if not os.path.exists(output_dir):\n",
    "    os.makedirs(output_dir)\n",
    "\n",
    "for pil_image, name in zip(pil_images, names):\n",
    "    pil_image.save(os.path.join(output_dir, name + \".pdf\"), format=\"pdf\", quality=100)"
   ]
  },
  {
   "cell_type": "markdown",
   "metadata": {},
   "source": [
    "# Partially Ordered Subgoals"
   ]
  },
  {
   "cell_type": "code",
   "execution_count": 9,
   "metadata": {},
   "outputs": [],
   "source": [
    "def load_partially_subgoals(file_path):\n",
    "    subgoal_df = pd.read_csv(file_path)\n",
    "    subgs = subgoal_df.groupby(\"user_id\").agg(list).values.tolist()\n",
    "    all_subg_tuples = []\n",
    "\n",
    "    for prev_subgs, next_subgs in subgs:\n",
    "        subg_tuples = [(prev_sg, next_sg) for prev_sg, next_sg in zip(prev_subgs, next_subgs)]\n",
    "        all_subg_tuples.append(subg_tuples)\n",
    "    \n",
    "    return all_subg_tuples\n"
   ]
  },
  {
   "cell_type": "code",
   "execution_count": 10,
   "metadata": {},
   "outputs": [
    {
     "data": {
      "text/plain": [
       "[[(25, 62), (51, 88)]]"
      ]
     },
     "execution_count": 10,
     "metadata": {},
     "output_type": "execute_result"
    }
   ],
   "source": [
    "fpath = \"../in/subgoals/4room_min_partially_subgoals.csv\"\n",
    "subgoal_sets = load_partially_subgoals(fpath)\n",
    "subgoal_sets"
   ]
  },
  {
   "cell_type": "code",
   "execution_count": 11,
   "metadata": {},
   "outputs": [],
   "source": [
    "subgoal_series = []\n",
    "for subgoal_tuples in subgoal_sets:\n",
    "    subgoals = set()\n",
    "    for pre_sub, next_sub in subgoal_tuples:\n",
    "        subgoals.add(pre_sub)\n",
    "        subgoals.add(next_sub)\n",
    "\n",
    "    subgoal_series.append(list(subgoals))\n",
    "\n",
    "pil_images = output_env_render(env, [subgoal_series])"
   ]
  },
  {
   "cell_type": "code",
   "execution_count": 12,
   "metadata": {},
   "outputs": [],
   "source": [
    "output_dir = \"../img/partially\"\n",
    "names = [\"partially_ordered_subgoal\"]\n",
    "assert len(pil_images) == len(names)\n",
    "\n",
    "if not os.path.exists(output_dir):\n",
    "    os.makedirs(output_dir)\n",
    "\n",
    "for pil_image, name in zip(pil_images, names):\n",
    "    pil_image.save(os.path.join(output_dir, name + \".pdf\"), format=\"pdf\", quality=100)"
   ]
  },
  {
   "cell_type": "markdown",
   "metadata": {},
   "source": [
    "# Mixed Positive and Negative Rewards"
   ]
  },
  {
   "cell_type": "code",
   "execution_count": 10,
   "metadata": {},
   "outputs": [],
   "source": [
    "env = gym.make('PenalizedTworooms-v0')"
   ]
  },
  {
   "cell_type": "code",
   "execution_count": 12,
   "metadata": {},
   "outputs": [
    {
     "data": {
      "image/png": "[encoded data removed]",
      "text/plain": [
       "<PIL.Image.Image image mode=RGB size=570x240 at 0x7F4DC51D1D90>"
      ]
     },
     "execution_count": 12,
     "metadata": {},
     "output_type": "execute_result"
    }
   ],
   "source": [
    "env.reset()\n",
    "img_arr = env.render(mode=\"rgb_array\")\n",
    "img = Image.fromarray(img_arr)\n",
    "img.save(\"../img/three_room.png\", format=\"png\", quality=100)\n",
    "img"
   ]
  },
  {
   "cell_type": "code",
   "execution_count": 13,
   "metadata": {},
   "outputs": [],
   "source": [
    "subgoal_sets = [[[35, 41]]]\n",
    "pil_images = output_env_render(env, subgoal_sets)\n",
    "pil_images[0].save(\"../img/three_room_with_subgs.pdf\", format=\"pdf\", quality=100)"
   ]
  },
  {
   "cell_type": "code",
   "execution_count": null,
   "metadata": {},
   "outputs": [],
   "source": []
  }
 ],
 "metadata": {
  "kernelspec": {
   "display_name": "venv",
   "language": "python",
   "name": "python3"
  },
  "language_info": {
   "codemirror_mode": {
    "name": "ipython",
    "version": 3
   },
   "file_extension": ".py",
   "mimetype": "text/x-python",
   "name": "python",
   "nbconvert_exporter": "python",
   "pygments_lexer": "ipython3",
   "version": "3.7.9 (default, Sep  3 2022, 13:46:42) \n[GCC 11.2.0]"
  },
  "orig_nbformat": 4,
  "vscode": {
   "interpreter": {
    "hash": "25c3f71c774a1ecca1776a9ee2a0c2bce270bd6438b774e29cfbb5e290187295"
   }
  }
 },
 "nbformat": 4,
 "nbformat_minor": 2
}
