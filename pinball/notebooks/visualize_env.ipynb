{
 "cells": [
  {
   "cell_type": "code",
   "execution_count": 15,
   "metadata": {},
   "outputs": [],
   "source": [
    "import numpy as np\n",
    "import gym\n",
    "import gym_pinball\n",
    "from PIL import Image\n",
    "import pandas as pd"
   ]
  },
  {
   "cell_type": "code",
   "execution_count": 16,
   "metadata": {},
   "outputs": [],
   "source": [
    "env = gym.make(\"Pinball-Subgoal-v0\")\n",
    "env.reset(\n",
    "    subgoals=[\n",
    "        {\n",
    "            \"pos_x\": 0.587743149968626,\n",
    "            \"pos_y\": 0.648609077598829,\n",
    "            \"rad\": 0.04\n",
    "        }\n",
    "    ]\n",
    ")"
   ]
  },
  {
   "cell_type": "code",
   "execution_count": 17,
   "metadata": {},
   "outputs": [],
   "source": [
    "img = env.render(mode='rgb_array')\n",
    "pil_image = Image.fromarray(img)\n",
    "pil_image\n",
    "env.render(close=True)"
   ]
  },
  {
   "cell_type": "code",
   "execution_count": 18,
   "metadata": {},
   "outputs": [],
   "source": [
    "def load_subgoals(file_path):\n",
    "    subgoals_df = pd.read_csv(file_path)\n",
    "    subgoals = subgoals_df.groupby([\"user_id\", \"task_id\"]).agg(list)\n",
    "    xs = subgoals[\"x\"].values.tolist()\n",
    "    ys = subgoals[\"y\"].values.tolist()\n",
    "    rads = subgoals[\"rad\"].values.tolist()\n",
    "    subg_serieses = []\n",
    "    for x, y, rad in zip(xs, ys, rads):\n",
    "        subg_series = []\n",
    "        for x_i, y_i, rad_i in zip(x, y, rad):\n",
    "            subg_series.append({\n",
    "                \"pos_x\": x_i,\n",
    "                \"pos_y\": y_i,\n",
    "                \"rad\": rad_i\n",
    "                })\n",
    "        subg_serieses.append([subg_series])\n",
    "    return subg_serieses\n"
   ]
  },
  {
   "cell_type": "code",
   "execution_count": 19,
   "metadata": {},
   "outputs": [
    {
     "data": {
      "text/plain": [
       "[[[{'pos_x': 0.587743149968626, 'pos_y': 0.648609077598829, 'rad': 0.04},\n",
       "   {'pos_x': 0.644216691068814, 'pos_y': 0.320225894164401, 'rad': 0.04}]],\n",
       " [[{'pos_x': 0.280005436998777, 'pos_y': 0.255131167595487, 'rad': 0.04},\n",
       "   {'pos_x': 0.687780345249422, 'pos_y': 0.312219654750578, 'rad': 0.04}]],\n",
       " [[{'pos_x': 0.503557744937055, 'pos_y': 0.709125029322074, 'rad': 0.04},\n",
       "   {'pos_x': 0.678708264915162, 'pos_y': 0.310344827586207, 'rad': 0.04}]],\n",
       " [[{'pos_x': 0.515625, 'pos_y': 0.667410714285714, 'rad': 0.04},\n",
       "   {'pos_x': 0.6875, 'pos_y': 0.299107142857143, 'rad': 0.04}]],\n",
       " [[{'pos_x': 0.336767645701984, 'pos_y': 0.750884207288944, 'rad': 0.04},\n",
       "   {'pos_x': 0.713516838382285, 'pos_y': 0.301860679686299, 'rad': 0.04}]],\n",
       " [[{'pos_x': 0.296130952380952, 'pos_y': 0.316964285714286, 'rad': 0.04},\n",
       "   {'pos_x': 0.645833333333333, 'pos_y': 0.339285714285714, 'rad': 0.04}]],\n",
       " [[{'pos_x': 0.332080200501253, 'pos_y': 0.304511278195489, 'rad': 0.04},\n",
       "   {'pos_x': 0.680868838763576, 'pos_y': 0.321219715956558, 'rad': 0.04}]],\n",
       " [[{'pos_x': 0.34375, 'pos_y': 0.75, 'rad': 0.04},\n",
       "   {'pos_x': 0.75, 'pos_y': 0.305059523809524, 'rad': 0.04}]],\n",
       " [[{'pos_x': 0.357142857142857, 'pos_y': 0.75, 'rad': 0.04},\n",
       "   {'pos_x': 0.611607142857143, 'pos_y': 0.386160714285714, 'rad': 0.04}]],\n",
       " [[{'pos_x': 0.502232142857143, 'pos_y': 0.65625, 'rad': 0.04},\n",
       "   {'pos_x': 0.71875, 'pos_y': 0.296875, 'rad': 0.04}]]]"
      ]
     },
     "execution_count": 19,
     "metadata": {},
     "output_type": "execute_result"
    }
   ],
   "source": [
    "subg_serieses = load_subgoals(\"../pinball/in/subgoals/human_subgoals.csv\")\n",
    "subg_serieses"
   ]
  },
  {
   "cell_type": "code",
   "execution_count": 12,
   "metadata": {},
   "outputs": [],
   "source": [
    "pil_images = []\n",
    "\n",
    "for subgs in subg_serieses:\n",
    "    env.reset(subgoals=subgs[0])\n",
    "    img = env.render(mode='rgb_array')\n",
    "    pil_images.append(Image.fromarray(img))\n",
    "    env.render(close=True)"
   ]
  },
  {
   "cell_type": "code",
   "execution_count": 13,
   "metadata": {},
   "outputs": [],
   "source": [
    "# 画像の保存\n",
    "import os\n",
    "if not os.path.exists(\"../img\"):\n",
    "    os.mkdir(\"../img\")\n",
    "\n",
    "for i, pil_image in enumerate(pil_images):\n",
    "    pil_image.save(f\"../img/P{i}.pdf\", format=\"pdf\", quality=100)"
   ]
  },
  {
   "cell_type": "code",
   "execution_count": null,
   "metadata": {},
   "outputs": [],
   "source": []
  }
 ],
 "metadata": {
  "kernelspec": {
   "display_name": "venv",
   "language": "python",
   "name": "python3"
  },
  "language_info": {
   "codemirror_mode": {
    "name": "ipython",
    "version": 3
   },
   "file_extension": ".py",
   "mimetype": "text/x-python",
   "name": "python",
   "nbconvert_exporter": "python",
   "pygments_lexer": "ipython3",
   "version": "3.7.9"
  },
  "orig_nbformat": 4,
  "vscode": {
   "interpreter": {
    "hash": "25c3f71c774a1ecca1776a9ee2a0c2bce270bd6438b774e29cfbb5e290187295"
   }
  }
 },
 "nbformat": 4,
 "nbformat_minor": 2
}
